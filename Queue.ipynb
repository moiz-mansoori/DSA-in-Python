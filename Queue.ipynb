{
 "cells": [
  {
   "cell_type": "code",
   "execution_count": 6,
   "metadata": {},
   "outputs": [
    {
     "name": "stdout",
     "output_type": "stream",
     "text": [
      "Enqueue:  1\n",
      "Enqueue:  12\n",
      "Enqueue:  13\n",
      "So:  [1, 12, 13]\n",
      "1\n",
      "So:  [12, 13]\n"
     ]
    }
   ],
   "source": [
    "class create_queue:\n",
    "    def __init__(self):\n",
    "        self.queue = []\n",
    "\n",
    "    def IsEmpty(self,queue):\n",
    "        return len(self.queue) == 0\n",
    "\n",
    "    def enqueue(self,data):\n",
    "        self.queue.append(data)\n",
    "        print(\"Enqueue: \", data)\n",
    "\n",
    "    def dequeue(self):\n",
    "        if self.IsEmpty(self.queue):\n",
    "            return \"Queue is empty\"\n",
    "        return self.queue.pop(0)\n",
    "    \n",
    "    def displayit(self):\n",
    "        if self.IsEmpty(self.queue):\n",
    "            return \"Queue is empty\"\n",
    "        else:\n",
    "            print(\"So: \", self.queue)\n",
    "\n",
    "a = create_queue()\n",
    "a.enqueue(1)\n",
    "a.enqueue(12)\n",
    "a.enqueue(13)\n",
    "a.displayit()\n",
    "\n",
    "print(a.dequeue())\n",
    "a.displayit()\n",
    "\n",
    "\n"
   ]
  },
  {
   "cell_type": "code",
   "execution_count": null,
   "metadata": {},
   "outputs": [
    {
     "name": "stdout",
     "output_type": "stream",
     "text": [
      "Added job: Document A\n",
      "Added job: Document B\n",
      "Added job: Document C\n",
      "Current jobs in the queue: ['Document A', 'Document B', 'Document C']\n",
      "Processing job: Document A\n",
      "Current jobs in the queue: ['Document B', 'Document C']\n"
     ]
    }
   ],
   "source": [
    "#  implement a queue data structure for a printer queue system, with the following requirements:\n",
    "\n",
    "# First-Come, First-Served Order: Print jobs should be processed in the order they were received, meaning the first job added to the queue should be the first to be printed (FIFO - First In, First Out).\n",
    "# New Jobs: New print jobs are added at the end of the queue.\n",
    "# Processing Jobs: When the printer is ready, it processes jobs from the front of the queue.\n",
    "\n",
    "class PrinterQueue:\n",
    "    def __init__(self):\n",
    "        self.queue = []\n",
    "\n",
    "    def is_empty(self):\n",
    "        return len(self.queue) == 0\n",
    "\n",
    "    def add_job(self, job):\n",
    "        self.queue.append(job)\n",
    "        print(\"Added job:\", job)\n",
    "\n",
    "    def process_job(self):\n",
    "        if self.is_empty():\n",
    "            return \"No jobs in the queue\"\n",
    "        return self.queue.pop(0)\n",
    "\n",
    "    def display_jobs(self): \n",
    "        if self.is_empty():\n",
    "            print(\"Queue is empty\")\n",
    "        else:\n",
    "            print(\"Current jobs in the queue:\", self.queue)\n",
    "\n",
    "printer_queue = PrinterQueue()\n",
    "printer_queue.add_job(\"Document A\")\n",
    "printer_queue.add_job(\"Document B\")\n",
    "printer_queue.add_job(\"Document C\")\n",
    "\n",
    "printer_queue.display_jobs()\n",
    "\n",
    "print(\"Processing job:\", printer_queue.process_job())\n",
    "printer_queue.display_jobs()\n"
   ]
  }
 ],
 "metadata": {
  "kernelspec": {
   "display_name": "Python 3",
   "language": "python",
   "name": "python3"
  },
  "language_info": {
   "codemirror_mode": {
    "name": "ipython",
    "version": 3
   },
   "file_extension": ".py",
   "mimetype": "text/x-python",
   "name": "python",
   "nbconvert_exporter": "python",
   "pygments_lexer": "ipython3",
   "version": "3.12.0"
  }
 },
 "nbformat": 4,
 "nbformat_minor": 2
}
