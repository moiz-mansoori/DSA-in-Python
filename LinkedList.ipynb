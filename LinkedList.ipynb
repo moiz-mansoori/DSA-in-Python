{
 "cells": [
  {
   "cell_type": "code",
   "execution_count": 3,
   "metadata": {},
   "outputs": [
    {
     "name": "stdout",
     "output_type": "stream",
     "text": [
      "20\n",
      "10\n",
      "100\n"
     ]
    }
   ],
   "source": [
    "class Node:\n",
    "    def __init__(self, data):\n",
    "        self.data = data\n",
    "        self.next = None\n",
    "\n",
    "class LinkedList:\n",
    "    def __init__(self):\n",
    "        self.head = None\n",
    "\n",
    "    def print_LL(self):\n",
    "        if self.head is None:\n",
    "            print(\"LinkedList is empty\")\n",
    "        else:\n",
    "            n = self.head\n",
    "            while n is not None:\n",
    "                print(n.data)\n",
    "                n = n.next\n",
    "    \n",
    "    def add_begin(self,data):\n",
    "        newNode = Node(data)\n",
    "        newNode.next = self.head\n",
    "        self.head = newNode\n",
    "\n",
    "    def add_end(self,data):\n",
    "        newNode = Node(data)\n",
    "        if self.head is None:\n",
    "            self.head =  newNode\n",
    "        else:\n",
    "            n = self.head\n",
    "            while n.next is not None:\n",
    "                n = n.next\n",
    "            n.next = newNode\n",
    "\n",
    "\n",
    "a = LinkedList()\n",
    "a.add_begin(10)\n",
    "a.add_end(100)\n",
    "a.add_begin(20)\n",
    "a.print_LL()\n"
   ]
  },
  {
   "cell_type": "code",
   "execution_count": 2,
   "metadata": {},
   "outputs": [
    {
     "name": "stdout",
     "output_type": "stream",
     "text": [
      "1 2 3 "
     ]
    }
   ],
   "source": [
    "# Linked list implementation in Python\n",
    "class Node:\n",
    "    # Creating a node\n",
    "    def __init__(self, item):\n",
    "        self.item = item\n",
    "        self.next = None\n",
    "class LinkedList:\n",
    "    def __init__(self):\n",
    "        self.head = None\n",
    "\n",
    "\n",
    "if __name__ == '__main__':\n",
    "    linked_list = LinkedList()\n",
    "\n",
    "    # Assign item values\n",
    "    linked_list.head = Node(1)\n",
    "    second = Node(2)\n",
    "    third = Node(3)\n",
    "\n",
    " # Connect nodes\n",
    "    linked_list.head.next = second\n",
    "    second.next = third\n",
    "\n",
    "    # Print the linked list item\n",
    "    while linked_list.head != None:\n",
    "        print(linked_list.head.item, end=\" \")\n",
    "        linked_list.head = linked_list.head.next\n"
   ]
  },
  {
   "cell_type": "code",
   "execution_count": 8,
   "metadata": {},
   "outputs": [
    {
     "name": "stdout",
     "output_type": "stream",
     "text": [
      "Name: Moiz, Phone: 0317****321\n",
      "Name: Mansoori, Phone: 0327****321\n"
     ]
    }
   ],
   "source": [
    "#  Implementation of a linked list for a contact list in Python. Each node represents a contact with a name and phone number.\n",
    "\n",
    "# Node class to store contact details\n",
    "class Node:\n",
    "    def __init__(self, name, phone):\n",
    "        self.name = name\n",
    "        self.phone = phone\n",
    "        self.next = None  # Pointer to the next contact\n",
    "\n",
    "# LinkedList class to manage the list of contacts\n",
    "class LinkedList:\n",
    "    def __init__(self):\n",
    "        self.head = None\n",
    "\n",
    "    # Method to add a new contact to the end of the list\n",
    "    def add_contact(self, name, phone):\n",
    "        new_contact = Node(name, phone)\n",
    "        if not self.head:\n",
    "            self.head = new_contact\n",
    "        else:\n",
    "            current = self.head\n",
    "            while current.next:\n",
    "                current = current.next\n",
    "            current.next = new_contact\n",
    "\n",
    "    # Method to display all contacts\n",
    "    def display_contacts(self):\n",
    "        current = self.head\n",
    "        while current:\n",
    "            print(f\"Name: {current.name}, Phone: {current.phone}\")\n",
    "            current = current.next\n",
    "\n",
    "# Example usage\n",
    "contacts = LinkedList()\n",
    "contacts.add_contact(\"Moiz\", \"0317****321\")\n",
    "contacts.add_contact(\"Mansoori\", \"0327****321\")\n",
    "contacts.display_contacts()\n"
   ]
  },
  {
   "cell_type": "code",
   "execution_count": null,
   "metadata": {},
   "outputs": [
    {
     "name": "stdout",
     "output_type": "stream",
     "text": [
      "Moiz and 0000\n",
      "Ahmed and 1234\n"
     ]
    }
   ],
   "source": [
    "# Implementation of a linked list for a contact list in Python. Each node represents a contact with a name and phone number.\n",
    "class Node:\n",
    "    def __init__(self, name, number):\n",
    "        self.name = name\n",
    "        self.number = number\n",
    "        self.next = None\n",
    "\n",
    "class LinkedList:\n",
    "    def __init__(self):\n",
    "        self.head = None\n",
    "\n",
    "    def addContacts(self, name, number):\n",
    "        newCont = Node(name, number)\n",
    "        if not self.head:\n",
    "            self.head = newCont\n",
    "        else:\n",
    "            current = self.head\n",
    "            while current.next:\n",
    "                current = current.next\n",
    "            current.next = newCont  \n",
    "\n",
    "    def displayit(self):\n",
    "        current = self.head\n",
    "        while current:\n",
    "            print(f\"{current.name} and {current.number}\")  \n",
    "            current = current.next\n",
    "\n",
    "\n",
    "a = LinkedList()\n",
    "a.addContacts(\"Moiz\", \"0000\")  \n",
    "a.addContacts(\"Ahmed\", \"1234\")  \n",
    "a.displayit()\n"
   ]
  }
 ],
 "metadata": {
  "kernelspec": {
   "display_name": "Python 3",
   "language": "python",
   "name": "python3"
  },
  "language_info": {
   "codemirror_mode": {
    "name": "ipython",
    "version": 3
   },
   "file_extension": ".py",
   "mimetype": "text/x-python",
   "name": "python",
   "nbconvert_exporter": "python",
   "pygments_lexer": "ipython3",
   "version": "3.12.0"
  }
 },
 "nbformat": 4,
 "nbformat_minor": 2
}
