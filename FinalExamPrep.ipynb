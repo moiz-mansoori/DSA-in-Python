{
 "cells": [
  {
   "cell_type": "markdown",
   "metadata": {},
   "source": [
    "Write a program that checks if it is already sorted, considering 7 numeric values only.\n"
   ]
  },
  {
   "cell_type": "code",
   "execution_count": 26,
   "metadata": {},
   "outputs": [
    {
     "data": {
      "text/plain": [
       "'Array is not sorted'"
      ]
     },
     "execution_count": 26,
     "metadata": {},
     "output_type": "execute_result"
    }
   ],
   "source": [
    "def Is_Sorted_Array(arr):\n",
    "    if len(arr) != 7:\n",
    "        print(\"Array must contain 7 letters\")\n",
    "\n",
    "    for i in range(len(arr) - 1):\n",
    "        if arr[i] > arr[i + 1]:\n",
    "            return \"Array is not sorted\"\n",
    "    return \"Array is sorted\"\n",
    "\n",
    "# arr = [int(x) for x in input(\"Enter 7 numerics in spaces: \").split()]\n",
    "arr = [1, 2, 3, 4, 8, 6, 7]\n",
    "Is_Sorted_Array (arr)"
   ]
  },
  {
   "cell_type": "markdown",
   "metadata": {},
   "source": [
    "Perform binary search algorithm on the following sequence using divide and conquer approach.\n",
    "\n",
    "Write the steps and program.\n",
    "Sequence:\n",
    "17, 18, 19, 20, 21, 22, 23\n"
   ]
  },
  {
   "cell_type": "code",
   "execution_count": 5,
   "metadata": {},
   "outputs": [
    {
     "name": "stdout",
     "output_type": "stream",
     "text": [
      "Element 3 in sequence [2, 12, 21, 34, 45, 56, 67]\n",
      "Element not found\n"
     ]
    }
   ],
   "source": [
    "def binary_search(arr, target):\n",
    "\n",
    "    \"\"\"Perform binary search using divide and conquer approach.\"\"\"\n",
    "\n",
    "    left = 0\n",
    "    right = len(arr) - 1\n",
    "\n",
    "    while left <= right:\n",
    "\n",
    "        mid = (left + right) // 2\n",
    "\n",
    "        if arr[mid] == target:\n",
    "            return mid\n",
    "        elif arr[mid] < target:\n",
    "            left = mid + 1  # search right side\n",
    "\n",
    "        else:\n",
    "            right = mid - 1  # search left side\n",
    "\n",
    "    return -1\n",
    "\n",
    "# arr = [int(x) for x in input(\"Enter 7 numerics in spaces: \").split()]\n",
    "sequence = [21,2,12,34,45,56,67]\n",
    "sequence.sort()\n",
    "target = 3\n",
    "# target = int(input(\"Enter target: \"))\n",
    "print(f\"Element {target} in sequence {sequence}\")\n",
    "result = binary_search(sequence, target)\n",
    "\n",
    "if result != -1:\n",
    "    print(f\"Element found at index {result}\")\n",
    "else:\n",
    "    print(\"Element not found\")\n",
    "\n"
   ]
  },
  {
   "cell_type": "markdown",
   "metadata": {},
   "source": [
    "Implement linear search algorithm to search for the record of a student using his/her roll number.\n"
   ]
  },
  {
   "cell_type": "code",
   "execution_count": 6,
   "metadata": {},
   "outputs": [
    {
     "name": "stdout",
     "output_type": "stream",
     "text": [
      "Roll No: 22F-BSAI-32 | Patient Name: Moiz Mansoori | Blood Group: B+\n"
     ]
    }
   ],
   "source": [
    "class Node:\n",
    "    def __init__(self, name, roll, blood):\n",
    "        self.name = name\n",
    "        self.roll = roll\n",
    "        self.blood = blood\n",
    "\n",
    "def linear(students, targetroll):\n",
    "    for i in range(len(students)):\n",
    "        if students[i].roll == targetroll:\n",
    "            return i  # Returns immediately after first iteration\n",
    "\n",
    "    return -1  # If no student is found\n",
    "\n",
    "# List of students\n",
    "students = [\n",
    "    Node(\"Moiz Mansoori\", 32, \"B+\"),\n",
    "    Node(\"Taha\", 12, \"A+\"),\n",
    "    Node(\"Ahmed\", 22, \"AB+\")\n",
    "]\n",
    "\n",
    "# Search for a student\n",
    "result = linear(students, 32)\n",
    "\n",
    "# Display result\n",
    "if result != -1:\n",
    "    print(f\"Roll No: 22F-BSAI-{students[result].roll} | Patient Name: {students[result].name} | Blood Group: {students[result].blood}\")\n",
    "else:\n",
    "    print(\"Not found\")\n"
   ]
  },
  {
   "cell_type": "markdown",
   "metadata": {},
   "source": [
    "Apply Preorder, Postorder, and Inorder traversal to determine the output for the following sequence of data.\n",
    "Also, write the code for inorder sequence.\n",
    "\n",
    "Given Tree Structure:\n",
    "root = Node(1)  \n",
    "root.left = Node(2)  \n",
    "root.right = Node(3)  \n",
    "root.left.left = Node(4)  \n",
    "root.left.right = Node(5)"
   ]
  },
  {
   "cell_type": "code",
   "execution_count": 15,
   "metadata": {},
   "outputs": [
    {
     "name": "stdout",
     "output_type": "stream",
     "text": [
      "1 2 4 5 3 Preorder Traversal: None\n",
      "\n",
      "Inorder Traversal:\n",
      "4 2 5 1 3 \n",
      "Postorder Traversal:\n",
      "4 5 2 3 1 "
     ]
    }
   ],
   "source": [
    "# Define Node structure\n",
    "class Node:\n",
    "    def __init__(self, key):\n",
    "        self.left = None\n",
    "        self.right = None\n",
    "        self.value = key\n",
    "\n",
    "# Preorder Traversal (Root → Left → Right)\n",
    "def preorder_traversal(root):\n",
    "    if root:\n",
    "        print(root.value, end=\" \")  # Visit root\n",
    "        preorder_traversal(root.left)  # Visit left subtree\n",
    "        preorder_traversal(root.right) # Visit right subtree\n",
    "\n",
    "# Inorder Traversal (Left → Root → Right)\n",
    "def inorder_traversal(root):\n",
    "    if root:\n",
    "        inorder_traversal(root.left)  # Visit left subtree\n",
    "        print(root.value, end=\" \")    # Visit root\n",
    "        inorder_traversal(root.right) # Visit right subtree\n",
    "\n",
    "# Postorder Traversal (Left → Right → Root)\n",
    "def postorder_traversal(root):\n",
    "    if root:\n",
    "        postorder_traversal(root.left)  # Visit left subtree\n",
    "        postorder_traversal(root.right) # Visit right subtree\n",
    "        print(root.value, end=\" \")      # Visit root\n",
    "\n",
    "# Constructing the given tree\n",
    "root = Node(1)\n",
    "root.left = Node(2)\n",
    "root.right = Node(3)\n",
    "root.left.left = Node(4)\n",
    "root.left.right = Node(5)\n",
    "\n",
    "# Perform and print all traversals\n",
    "\n",
    "result = preorder_traversal(root)  # Expected Output: 1 2 4 5 3\n",
    "print(\"Preorder Traversal:\", result)\n",
    "print(\"\\nInorder Traversal:\")\n",
    "inorder_traversal(root)   # Expected Output: 4 2 5 1 3\n",
    "print(\"\\nPostorder Traversal:\")\n",
    "postorder_traversal(root) # Expected Output: 4 5 2 3 1\n"
   ]
  },
  {
   "cell_type": "code",
   "execution_count": null,
   "metadata": {},
   "outputs": [],
   "source": []
  }
 ],
 "metadata": {
  "kernelspec": {
   "display_name": "Python 3",
   "language": "python",
   "name": "python3"
  },
  "language_info": {
   "codemirror_mode": {
    "name": "ipython",
    "version": 3
   },
   "file_extension": ".py",
   "mimetype": "text/x-python",
   "name": "python",
   "nbconvert_exporter": "python",
   "pygments_lexer": "ipython3",
   "version": "3.12.0"
  }
 },
 "nbformat": 4,
 "nbformat_minor": 2
}
