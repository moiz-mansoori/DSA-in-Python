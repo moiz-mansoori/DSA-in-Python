{
 "cells": [
  {
   "cell_type": "markdown",
   "metadata": {},
   "source": [
    " ## Factorial Using Recursion"
   ]
  },
  {
   "cell_type": "code",
   "execution_count": null,
   "metadata": {},
   "outputs": [
    {
     "name": "stdout",
     "output_type": "stream",
     "text": [
      "The factorial of 5 is 120\n"
     ]
    }
   ],
   "source": [
    "def factorial(n):\n",
    "    if n == 1:  \n",
    "        return 1\n",
    "    else:\n",
    "        return n * factorial(n - 1)  \n",
    "\n",
    "num = int(input(\"Enter a number: \")) \n",
    "print(\"The factorial of\", num, \"is\", factorial(num))\n"
   ]
  },
  {
   "cell_type": "markdown",
   "metadata": {},
   "source": [
    "## Reverse a String"
   ]
  },
  {
   "cell_type": "code",
   "execution_count": 4,
   "metadata": {},
   "outputs": [
    {
     "name": "stdout",
     "output_type": "stream",
     "text": [
      "Reversed word: iroosnam\n"
     ]
    }
   ],
   "source": [
    "def rev(s):\n",
    "    if s == \"\":  \n",
    "        return s\n",
    "    else:\n",
    "        return s[-1] + rev(s[:-1]) \n",
    "\n",
    "word = input(\"Enter a word: \") \n",
    "print(\"Original word:\", word)\n",
    "print(\"Reversed word:\", rev(word))  \n"
   ]
  },
  {
   "cell_type": "markdown",
   "metadata": {},
   "source": [
    " ## Sum of Natural Numbers"
   ]
  },
  {
   "cell_type": "code",
   "execution_count": null,
   "metadata": {},
   "outputs": [
    {
     "name": "stdout",
     "output_type": "stream",
     "text": [
      "Number:  6\n",
      "Sum of natural numbers: 21\n"
     ]
    }
   ],
   "source": [
    "def sum_n(n):\n",
    "    if n == 0:  \n",
    "        return 0\n",
    "    else:\n",
    "        return n + sum_n(n - 1)  \n",
    "\n",
    "num = int(input(\"Enter a number: \")) \n",
    "print(\"Number:\", num)\n",
    "print(\"Sum of natural numbers:\", sum_n(num))  \n"
   ]
  },
  {
   "cell_type": "markdown",
   "metadata": {},
   "source": [
    "## Checking Palindrome"
   ]
  },
  {
   "cell_type": "code",
   "execution_count": null,
   "metadata": {},
   "outputs": [
    {
     "name": "stdout",
     "output_type": "stream",
     "text": [
      "mansoori\n",
      "Not a palindrome!\n"
     ]
    }
   ],
   "source": [
    "def pal(s):\n",
    "    if len(s) <= 1:  \n",
    "        return True\n",
    "    if s[0] != s[-1]:  \n",
    "        return False\n",
    "    return pal(s[1:-1])  \n",
    "\n",
    "word = input(\"Enter a word: \") \n",
    "print(\"Word: \",word)\n",
    "if pal(word):\n",
    "    print(\"This is Palindrome!\")\n",
    "else:\n",
    "    print(\"This is not a palindrome!\")\n"
   ]
  },
  {
   "cell_type": "code",
   "execution_count": null,
   "metadata": {},
   "outputs": [],
   "source": []
  }
 ],
 "metadata": {
  "kernelspec": {
   "display_name": "Python 3",
   "language": "python",
   "name": "python3"
  },
  "language_info": {
   "codemirror_mode": {
    "name": "ipython",
    "version": 3
   },
   "file_extension": ".py",
   "mimetype": "text/x-python",
   "name": "python",
   "nbconvert_exporter": "python",
   "pygments_lexer": "ipython3",
   "version": "3.12.0"
  }
 },
 "nbformat": 4,
 "nbformat_minor": 2
}
