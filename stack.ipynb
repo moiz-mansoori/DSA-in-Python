{
 "cells": [
  {
   "cell_type": "code",
   "execution_count": 16,
   "metadata": {},
   "outputs": [
    {
     "name": "stdout",
     "output_type": "stream",
     "text": [
      "Pushed Items:  1\n",
      "Pushed Items:  2\n",
      "Pushed Items:  3\n",
      "popped item:  3\n",
      "stack after popping an element:  ['1', '2']\n"
     ]
    }
   ],
   "source": [
    "def Stack():\n",
    "    stack = []\n",
    "    return stack\n",
    "\n",
    "def check_empty(stack):\n",
    "    return len(stack) == 0\n",
    "\n",
    "def Push(stack, item):\n",
    "    stack.append(item)\n",
    "    print(\"Pushed Items: \", item)\n",
    "\n",
    "def Pop(stack):\n",
    "    if (check_empty(stack)):\n",
    "        return \"List empty\"\n",
    "    return stack.pop()\n",
    "\n",
    "Create = Stack()\n",
    "Push(Create, str(1))\n",
    "Push(Create, str(2))\n",
    "Push(Create, str(3))\n",
    "print(\"popped item: \", Pop(Create))\n",
    "print(\"stack after popping an element: \",  str(Create))\n"
   ]
  },
  {
   "cell_type": "code",
   "execution_count": null,
   "metadata": {},
   "outputs": [
    {
     "name": "stdout",
     "output_type": "stream",
     "text": [
      "Added element 1\n",
      "Added element 2\n",
      "2\n"
     ]
    }
   ],
   "source": [
    "# Stack implementation in python\n",
    "\n",
    "# Creating a stack\n",
    "def create_stack():\n",
    "    stack = []\n",
    "    return stack\n",
    "\n",
    "\n",
    "# Creating an empty stack\n",
    "def check_empty(stack):\n",
    "    return len(stack) == 0\n",
    "\n",
    "\n",
    "# Adding items into the stack\n",
    "def push(stack, item):\n",
    "    stack.append(item)\n",
    "    print(\"pushed item: \", item)\n",
    "\n",
    "\n",
    "# Removing an element from the stack\n",
    "def pop(stack):\n",
    "    if (check_empty(stack)):\n",
    "        return \"stack is empty\"\n",
    "\n",
    "    return stack.pop()\n",
    "\n",
    "\n",
    "stack = create_stack()\n",
    "push(stack, str(1))\n",
    "push(stack, str(2))\n",
    "push(stack, str(3))\n",
    "push(stack, str(4))\n",
    "print(\"popped item: \", pop(stack))\n",
    "print(\"stack after popping an element: \",  str(stack))"
   ]
  }
 ],
 "metadata": {
  "kernelspec": {
   "display_name": "Python 3",
   "language": "python",
   "name": "python3"
  },
  "language_info": {
   "codemirror_mode": {
    "name": "ipython",
    "version": 3
   },
   "file_extension": ".py",
   "mimetype": "text/x-python",
   "name": "python",
   "nbconvert_exporter": "python",
   "pygments_lexer": "ipython3",
   "version": "3.12.0"
  }
 },
 "nbformat": 4,
 "nbformat_minor": 2
}
