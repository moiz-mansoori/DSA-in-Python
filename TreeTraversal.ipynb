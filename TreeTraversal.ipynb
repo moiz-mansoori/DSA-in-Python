{
 "cells": [
  {
   "cell_type": "markdown",
   "metadata": {},
   "source": [
    "### Preorder, Postorder, and Inorder traversal"
   ]
  },
  {
   "cell_type": "code",
   "execution_count": 2,
   "metadata": {},
   "outputs": [
    {
     "name": "stdout",
     "output_type": "stream",
     "text": [
      "Preorder Traversal:\n",
      "1 2 4 5 3 \n",
      "Inorder Traversal:\n",
      "4 2 5 1 3 \n",
      "Postorder Traversal:\n",
      "4 5 2 3 1 "
     ]
    }
   ],
   "source": [
    "class Node:\n",
    "    def __init__(self, key):\n",
    "        self.left = None\n",
    "        self.right = None\n",
    "        self.value = key\n",
    "\n",
    "# Preorder Traversal (Root → Left → Right)\n",
    "def preorder_traversal(root):\n",
    "    if root is not None:\n",
    "        print(root.value, end=\" \")  \n",
    "        preorder_traversal(root.left)  \n",
    "        preorder_traversal(root.right) \n",
    "\n",
    "# Inorder Traversal (Left → Root → Right)\n",
    "def inorder_traversal(root):\n",
    "    if root is not None:\n",
    "        inorder_traversal(root.left)  \n",
    "        print(root.value, end=\" \")   \n",
    "        inorder_traversal(root.right) \n",
    "\n",
    "# Postorder Traversal (Left → Right → Root)\n",
    "def postorder_traversal(root):\n",
    "    if root is not None:\n",
    "        postorder_traversal(root.left)  \n",
    "        postorder_traversal(root.right) \n",
    "        print(root.value, end=\" \")      \n",
    "\n",
    "root = Node(1)\n",
    "root.left = Node(2)\n",
    "root.right = Node(3)\n",
    "root.left.left = Node(4)\n",
    "root.left.right = Node(5)\n",
    "\n",
    "print(\"Preorder Traversal:\")\n",
    "preorder_traversal(root)  \n",
    "print(\"\\nInorder Traversal:\")\n",
    "inorder_traversal(root)   \n",
    "print(\"\\nPostorder Traversal:\")\n",
    "postorder_traversal(root) \n"
   ]
  },
  {
   "cell_type": "code",
   "execution_count": null,
   "metadata": {},
   "outputs": [],
   "source": []
  }
 ],
 "metadata": {
  "kernelspec": {
   "display_name": "Python 3",
   "language": "python",
   "name": "python3"
  },
  "language_info": {
   "codemirror_mode": {
    "name": "ipython",
    "version": 3
   },
   "file_extension": ".py",
   "mimetype": "text/x-python",
   "name": "python",
   "nbconvert_exporter": "python",
   "pygments_lexer": "ipython3",
   "version": "3.12.0"
  }
 },
 "nbformat": 4,
 "nbformat_minor": 2
}
